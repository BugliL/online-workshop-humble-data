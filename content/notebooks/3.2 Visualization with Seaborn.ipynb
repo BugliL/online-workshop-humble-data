{
  "metadata": {
    "kernelspec": {
      "name": "python",
      "display_name": "Python (Pyodide)",
      "language": "python"
    },
    "language_info": {
      "codemirror_mode": {
        "name": "python",
        "version": 3
      },
      "file_extension": ".py",
      "mimetype": "text/x-python",
      "name": "python",
      "nbconvert_exporter": "python",
      "pygments_lexer": "ipython3",
      "version": "3.8"
    }
  },
  "nbformat_minor": 4,
  "nbformat": 4,
  "cells": [
    {
      "cell_type": "markdown",
      "source": "<div class=\"alert alert-block alert-info\" style=\"background-color: #301E40; border: 0px; -moz-border-radius: 10px; -webkit-border-radius: 10px;\">\n<br/><br/>\n<h1 style=\"font-size: 45px; color: white; align: center;\"><center>\n<img src=\"https://raw.githubusercontent.com/HumbleData/beginners-data-workshop/master/media/humble-data-logo-white-transparent.png\" width=\"250px\" /><br/><br/>\nData visualization with Seaborn\n</center></h1>\n</div>",
      "metadata": {}
    },
    {
      "cell_type": "markdown",
      "source": "## About seaborn\nSeaborn is a Python data visualization library based on matplotlib. It provides a high-level interface for drawing attractive and informative statistical graphics, which is very powerful for visualizing categorical data.\n\n![](https://d1rwhvwstyk9gu.cloudfront.net/2017/07/seaburn-1.png)\n\nBefore we get started, we need to install Seaborn. Run the cell below.",
      "metadata": {}
    },
    {
      "cell_type": "code",
      "source": "import piplite\nawait piplite.install('seaborn')",
      "metadata": {
        "trusted": true
      },
      "execution_count": null,
      "outputs": []
    },
    {
      "cell_type": "markdown",
      "source": "We will be using the dataset [Pokemon.csv](https://gist.github.com/armgilles/194bcff35001e7eb53a2a8b441e8b2c6). Let's have a look at the data:",
      "metadata": {}
    },
    {
      "cell_type": "code",
      "source": "import pandas as pd\n\npokemon_df = pd.read_csv('../data/Pokemon/pokemon.csv', index_col=0)\npokemon_df.head(10)",
      "metadata": {
        "jupyter": {
          "outputs_hidden": false
        },
        "collapsed": false,
        "trusted": true
      },
      "execution_count": null,
      "outputs": []
    },
    {
      "cell_type": "markdown",
      "source": "---\n\n<div class=\"alert alert-block alert-warning\" style=\"padding: 0px; padding-left: 20px; padding-top: 5px;\"><h2 style=\"color: #301E40\">\nCategorical scatterplots\n</h2><br>\n</div>",
      "metadata": {}
    },
    {
      "cell_type": "markdown",
      "source": "For example, we want to compare the Attack of different types of Pokemon, to see if any type is generally more powerful than the others:",
      "metadata": {}
    },
    {
      "cell_type": "code",
      "source": "import seaborn as sns\nimport matplotlib.pyplot as plt\n\nsns.catplot(x=\"Type 1\", y=\"Attack\", data=pokemon_df);",
      "metadata": {
        "jupyter": {
          "outputs_hidden": false
        },
        "collapsed": false,
        "trusted": true
      },
      "execution_count": null,
      "outputs": []
    },
    {
      "cell_type": "markdown",
      "source": "When import, we usually simplify 'seaborn' as 'sns'. (It's a [West Wing / Rob Lowe](https://en.wikipedia.org/wiki/Sam_Seaborn) reference!) Note that we have to also have to import `matplotlib.pyplot` because Seaborn is a library that sits on top of matplotlib. We got a plot but it looks ugly and not readable, let's add some configuration to make it nicer.",
      "metadata": {}
    },
    {
      "cell_type": "markdown",
      "source": "**Try: adding `aspect=2.5` as the last arguments in the following `sns.catplot`**",
      "metadata": {}
    },
    {
      "cell_type": "code",
      "source": "sns.catplot(x=\"Type 1\", y=\"Attack\", data=pokemon_df);",
      "metadata": {
        "jupyter": {
          "outputs_hidden": false
        },
        "collapsed": false,
        "trusted": true
      },
      "execution_count": null,
      "outputs": []
    },
    {
      "cell_type": "markdown",
      "source": "So you can see that by adding 'aspect' we make the plot wider. The width of the plot is equal to 'aspect * height' so by adding 'aspect' we increase the width of the plot. It is one of the configurations that we can add to the plot. For the whole list and their details, we can refer to the [official documentation](https://seaborn.pydata.org/generated/seaborn.catplot.html#seaborn.catplot) but we will give an introduction to a few common ones.",
      "metadata": {}
    },
    {
      "cell_type": "markdown",
      "source": "For example, here we see that there's a random x-axis offset for all the points so we can see them without dots overlapping each other. This is done by the 'jitter' setting which is default to True. Let's turn it off and see what it looks like:",
      "metadata": {}
    },
    {
      "cell_type": "markdown",
      "source": "**Try: adding `jitter=False` as the last arguments in the following `sns.catplot`**",
      "metadata": {}
    },
    {
      "cell_type": "code",
      "source": "sns.catplot(x=\"Type 1\", y=\"Attack\", data=pokemon_df, aspect=2.5);",
      "metadata": {
        "jupyter": {
          "outputs_hidden": false
        },
        "collapsed": false,
        "trusted": true
      },
      "execution_count": null,
      "outputs": []
    },
    {
      "cell_type": "markdown",
      "source": "So we now have a plot that points are align according to their catagories without the x-axis offsets. Which one to use is depending on if the population of the value (e.g. Attack) is important. In our case, we want to know how the Attack is distributed in each Type so many be it's good to have 'jitter' on, or even better if we can spread it out even more and show the distribution:",
      "metadata": {}
    },
    {
      "cell_type": "markdown",
      "source": "**Try: adding `kind=\"swarm\"` as the last arguments in the following `sns.catplot`**",
      "metadata": {}
    },
    {
      "cell_type": "code",
      "source": "sns.catplot(x=\"Type 1\", y=\"Attack\", data=pokemon_df, aspect=2.5);",
      "metadata": {
        "jupyter": {
          "outputs_hidden": false
        },
        "collapsed": false,
        "trusted": true
      },
      "execution_count": null,
      "outputs": []
    },
    {
      "cell_type": "markdown",
      "source": "Here we can do it by setting 'kind' to 'swarm' so the points are not overlapping. The disadvantage is that this ploy will need more space horizontally. Imagine we don't want to make the plot super wide due to the limitation of the paper. We can turn it 90 degrees by flipping the x and the y,also we would adjust the aspect and the height:",
      "metadata": {}
    },
    {
      "cell_type": "markdown",
      "source": "**Try: swap `x` and `y`,  and add `height=12, aspect=0.6, kind=\"swarm\"` in the arguments of the following `sns.catplot`**",
      "metadata": {}
    },
    {
      "cell_type": "code",
      "source": "sns.catplot(x=\"Type 1\", y=\"Attack\", data=pokemon_df);",
      "metadata": {
        "jupyter": {
          "outputs_hidden": false
        },
        "collapsed": false,
        "trusted": true
      },
      "execution_count": null,
      "outputs": []
    },
    {
      "cell_type": "markdown",
      "source": "There are a few things we can observe so far:\n\n1. For some Types, like Psychic has a very large range of Attack with a long tail the end (i.e. some Physic Types has very high Attack power while most of the Psychic type does not).\n\n2. On the other hand, the Poison type are mostly in the range of 40-110 Attacks.\n\n3. In general Dragon Types have more Attack power than Fairy, but there are 2 Fairy type that has more attack power.",
      "metadata": {}
    },
    {
      "cell_type": "markdown",
      "source": "However, we would like to look deeper: I have a theory that Legendary Pokemon are more powerful. let's colour code according to 'Legendary' to see if the pokemon is Legendary or not will have something to do with the Attack of the pokemon:",
      "metadata": {}
    },
    {
      "cell_type": "markdown",
      "source": "**Try: adding `hue=\"Legendary\"` as the last arguments in the following `sns.catplot`**",
      "metadata": {}
    },
    {
      "cell_type": "code",
      "source": "plt.figure(figsize=(15, 6))\nsns.catplot(x=\"Type 1\", y=\"Attack\", data=pokemon_df, size=7)",
      "metadata": {
        "jupyter": {
          "outputs_hidden": false
        },
        "collapsed": false,
        "trusted": true
      },
      "execution_count": null,
      "outputs": []
    },
    {
      "cell_type": "markdown",
      "source": "Ah ha! We see that a lot of the Psychic Type that has higher that others in Attack is actually Legendary pokemon. That also happen to the Ground Type and the Flying type.",
      "metadata": {}
    },
    {
      "cell_type": "markdown",
      "source": "### Exercise\nNow it's your turn to do some analysis. Pick a property of the Pokemon: HP, Defense, Sp. Atk, Sp. Def or Speed and do the similar analysis as above to see if you can find any interesting facts about Pokemon.",
      "metadata": {}
    },
    {
      "cell_type": "markdown",
      "source": "---\n\n<div class=\"alert alert-block alert-warning\" style=\"padding: 0px; padding-left: 20px; padding-top: 5px;\"><h2 style=\"color: #301E40\">\nBuilding structured multi-plot grids\n</h2><br>\n</div>",
      "metadata": {}
    },
    {
      "cell_type": "markdown",
      "source": "Sometimes, we would have multiple plots in one graph for comparison. One way to do it in seaborn is to use FacetGrid. The FacetGrid class is useful when you want to visualize the distribution of a variable or the relationship between multiple variables separately within subsets of your dataset. In the following, we will be using FacetGrid to see if there is a difference for our analysis above across different Generations.",
      "metadata": {}
    },
    {
      "cell_type": "markdown",
      "source": "To make a FacetGrid, we can do the following:",
      "metadata": {}
    },
    {
      "cell_type": "code",
      "source": "g = sns.FacetGrid(pokemon_df, col=\"Generation\")",
      "metadata": {
        "jupyter": {
          "outputs_hidden": false
        },
        "collapsed": false,
        "trusted": true
      },
      "execution_count": null,
      "outputs": []
    },
    {
      "cell_type": "markdown",
      "source": "Look we have 6 plot areas which match as the number of different of Generations that we have\n(we can check what are the different Generations like this):",
      "metadata": {}
    },
    {
      "cell_type": "code",
      "source": "pokemon_df[\"Generation\"].unique()",
      "metadata": {
        "jupyter": {
          "outputs_hidden": false
        },
        "collapsed": false,
        "trusted": true
      },
      "execution_count": null,
      "outputs": []
    },
    {
      "cell_type": "markdown",
      "source": "However, we would like to have the plots align vertically rather than horizontally.",
      "metadata": {}
    },
    {
      "cell_type": "markdown",
      "source": "**Try: replace `col` with `row` in the following `sns.FacetGrid`**",
      "metadata": {}
    },
    {
      "cell_type": "code",
      "source": "g = sns.FacetGrid(pokemon_df, col=\"Generation\")",
      "metadata": {
        "jupyter": {
          "outputs_hidden": false
        },
        "collapsed": false,
        "trusted": true
      },
      "execution_count": null,
      "outputs": []
    },
    {
      "cell_type": "markdown",
      "source": "Ok, now we have the layout, how we gonna to put the plot in? For some plots, it could be done with the [FacetGrid.map()](https://seaborn.pydata.org/generated/seaborn.FacetGrid.map.html#seaborn.FacetGrid.map) method, for example, using sns.countplot to count how many Pokemon in different types:",
      "metadata": {}
    },
    {
      "cell_type": "code",
      "source": "g = sns.FacetGrid(pokemon_df, row=\"Generation\", aspect=3.5)\ng.map(sns.countplot, \"Type 1\");",
      "metadata": {
        "jupyter": {
          "outputs_hidden": false
        },
        "collapsed": false,
        "trusted": true
      },
      "execution_count": null,
      "outputs": []
    },
    {
      "cell_type": "markdown",
      "source": "But with sns.catplot that we used before, this are even simpler. As catplot is already a FacetGrid , we can directly add the `row` or `col` setting to it.",
      "metadata": {}
    },
    {
      "cell_type": "markdown",
      "source": "**Try: adding `row=\"Generation\"` as the last arguments in the following `sns.catplot`**",
      "metadata": {}
    },
    {
      "cell_type": "code",
      "source": "plt.figure(figsize=(15, 6))\nsns.catplot(x=\"Type 1\", y=\"Attack\", data=pokemon_df, size=7, hue=\"Legendary\", aspect=2.5)",
      "metadata": {
        "jupyter": {
          "outputs_hidden": false
        },
        "collapsed": false,
        "trusted": true
      },
      "execution_count": null,
      "outputs": []
    },
    {
      "cell_type": "markdown",
      "source": "Now you see that in each generation, the Legendary Pokemon are outliers with super attack powers comparing with the others within their own generation. For details using FacetGrids, you can see the official documentation here: https://seaborn.pydata.org/tutorial/axis_grids.html",
      "metadata": {}
    }
  ]
}